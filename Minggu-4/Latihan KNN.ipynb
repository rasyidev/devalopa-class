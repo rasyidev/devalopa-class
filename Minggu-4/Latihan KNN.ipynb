{
 "cells": [
  {
   "cell_type": "code",
   "execution_count": 65,
   "id": "3babd660",
   "metadata": {},
   "outputs": [],
   "source": [
    "import pandas as pd\n",
    "import numpy as np\n",
    "from sklearn.neighbors import KNeighborsClassifier, KNeighborsRegressor\n",
    "from sklearn.model_selection import train_test_split\n",
    "from sklearn.metrics import classification_report, accuracy_score, auc, r2_score\n",
    "from sklearn.preprocessing import StandardScaler, OneHotEncoder"
   ]
  },
  {
   "cell_type": "code",
   "execution_count": null,
   "id": "01da3038",
   "metadata": {},
   "outputs": [],
   "source": []
  },
  {
   "cell_type": "code",
   "execution_count": 5,
   "id": "729b6fe5",
   "metadata": {},
   "outputs": [
    {
     "data": {
      "text/html": [
       "<div>\n",
       "<style scoped>\n",
       "    .dataframe tbody tr th:only-of-type {\n",
       "        vertical-align: middle;\n",
       "    }\n",
       "\n",
       "    .dataframe tbody tr th {\n",
       "        vertical-align: top;\n",
       "    }\n",
       "\n",
       "    .dataframe thead th {\n",
       "        text-align: right;\n",
       "    }\n",
       "</style>\n",
       "<table border=\"1\" class=\"dataframe\">\n",
       "  <thead>\n",
       "    <tr style=\"text-align: right;\">\n",
       "      <th></th>\n",
       "      <th>RowNumber</th>\n",
       "      <th>CustomerId</th>\n",
       "      <th>Surname</th>\n",
       "      <th>CreditScore</th>\n",
       "      <th>Geography</th>\n",
       "      <th>Gender</th>\n",
       "      <th>Age</th>\n",
       "      <th>Tenure</th>\n",
       "      <th>Balance</th>\n",
       "      <th>NumOfProducts</th>\n",
       "      <th>HasCrCard</th>\n",
       "      <th>IsActiveMember</th>\n",
       "      <th>EstimatedSalary</th>\n",
       "      <th>Exited</th>\n",
       "    </tr>\n",
       "  </thead>\n",
       "  <tbody>\n",
       "    <tr>\n",
       "      <th>0</th>\n",
       "      <td>1</td>\n",
       "      <td>15634602</td>\n",
       "      <td>Hargrave</td>\n",
       "      <td>619</td>\n",
       "      <td>France</td>\n",
       "      <td>Female</td>\n",
       "      <td>42</td>\n",
       "      <td>2</td>\n",
       "      <td>0.00</td>\n",
       "      <td>1</td>\n",
       "      <td>1</td>\n",
       "      <td>1</td>\n",
       "      <td>101348.88</td>\n",
       "      <td>1</td>\n",
       "    </tr>\n",
       "    <tr>\n",
       "      <th>1</th>\n",
       "      <td>2</td>\n",
       "      <td>15647311</td>\n",
       "      <td>Hill</td>\n",
       "      <td>608</td>\n",
       "      <td>Spain</td>\n",
       "      <td>Female</td>\n",
       "      <td>41</td>\n",
       "      <td>1</td>\n",
       "      <td>83807.86</td>\n",
       "      <td>1</td>\n",
       "      <td>0</td>\n",
       "      <td>1</td>\n",
       "      <td>112542.58</td>\n",
       "      <td>0</td>\n",
       "    </tr>\n",
       "  </tbody>\n",
       "</table>\n",
       "</div>"
      ],
      "text/plain": [
       "   RowNumber  CustomerId   Surname  CreditScore Geography  Gender  Age  \\\n",
       "0          1    15634602  Hargrave          619    France  Female   42   \n",
       "1          2    15647311      Hill          608     Spain  Female   41   \n",
       "\n",
       "   Tenure   Balance  NumOfProducts  HasCrCard  IsActiveMember  \\\n",
       "0       2      0.00              1          1               1   \n",
       "1       1  83807.86              1          0               1   \n",
       "\n",
       "   EstimatedSalary  Exited  \n",
       "0        101348.88       1  \n",
       "1        112542.58       0  "
      ]
     },
     "execution_count": 5,
     "metadata": {},
     "output_type": "execute_result"
    }
   ],
   "source": [
    "df = pd.read_csv(\"https://raw.githubusercontent.com/rasyidev/well-known-datasets/main/bank_churn.csv\")\n",
    "df.head(2)"
   ]
  },
  {
   "cell_type": "code",
   "execution_count": 27,
   "id": "10f6898d",
   "metadata": {},
   "outputs": [
    {
     "data": {
      "text/plain": [
       "France     5014\n",
       "Germany    2509\n",
       "Spain      2477\n",
       "Name: Geography, dtype: int64"
      ]
     },
     "execution_count": 27,
     "metadata": {},
     "output_type": "execute_result"
    }
   ],
   "source": [
    "df.Geography.value_counts()"
   ]
  },
  {
   "cell_type": "code",
   "execution_count": 25,
   "id": "a774702e",
   "metadata": {},
   "outputs": [],
   "source": [
    "G = df[['Geography']]\n",
    "ohe = OneHotEncoder()\n",
    "geography = ohe.fit_transform(G).toarray()"
   ]
  },
  {
   "cell_type": "code",
   "execution_count": 29,
   "id": "6ff47dab",
   "metadata": {},
   "outputs": [
    {
     "data": {
      "text/html": [
       "<div>\n",
       "<style scoped>\n",
       "    .dataframe tbody tr th:only-of-type {\n",
       "        vertical-align: middle;\n",
       "    }\n",
       "\n",
       "    .dataframe tbody tr th {\n",
       "        vertical-align: top;\n",
       "    }\n",
       "\n",
       "    .dataframe thead th {\n",
       "        text-align: right;\n",
       "    }\n",
       "</style>\n",
       "<table border=\"1\" class=\"dataframe\">\n",
       "  <thead>\n",
       "    <tr style=\"text-align: right;\">\n",
       "      <th></th>\n",
       "      <th>france</th>\n",
       "      <th>germany</th>\n",
       "      <th>spain</th>\n",
       "    </tr>\n",
       "  </thead>\n",
       "  <tbody>\n",
       "    <tr>\n",
       "      <th>0</th>\n",
       "      <td>1.0</td>\n",
       "      <td>0.0</td>\n",
       "      <td>0.0</td>\n",
       "    </tr>\n",
       "    <tr>\n",
       "      <th>1</th>\n",
       "      <td>0.0</td>\n",
       "      <td>0.0</td>\n",
       "      <td>1.0</td>\n",
       "    </tr>\n",
       "    <tr>\n",
       "      <th>2</th>\n",
       "      <td>1.0</td>\n",
       "      <td>0.0</td>\n",
       "      <td>0.0</td>\n",
       "    </tr>\n",
       "    <tr>\n",
       "      <th>3</th>\n",
       "      <td>1.0</td>\n",
       "      <td>0.0</td>\n",
       "      <td>0.0</td>\n",
       "    </tr>\n",
       "    <tr>\n",
       "      <th>4</th>\n",
       "      <td>0.0</td>\n",
       "      <td>0.0</td>\n",
       "      <td>1.0</td>\n",
       "    </tr>\n",
       "    <tr>\n",
       "      <th>...</th>\n",
       "      <td>...</td>\n",
       "      <td>...</td>\n",
       "      <td>...</td>\n",
       "    </tr>\n",
       "    <tr>\n",
       "      <th>9995</th>\n",
       "      <td>1.0</td>\n",
       "      <td>0.0</td>\n",
       "      <td>0.0</td>\n",
       "    </tr>\n",
       "    <tr>\n",
       "      <th>9996</th>\n",
       "      <td>1.0</td>\n",
       "      <td>0.0</td>\n",
       "      <td>0.0</td>\n",
       "    </tr>\n",
       "    <tr>\n",
       "      <th>9997</th>\n",
       "      <td>1.0</td>\n",
       "      <td>0.0</td>\n",
       "      <td>0.0</td>\n",
       "    </tr>\n",
       "    <tr>\n",
       "      <th>9998</th>\n",
       "      <td>0.0</td>\n",
       "      <td>1.0</td>\n",
       "      <td>0.0</td>\n",
       "    </tr>\n",
       "    <tr>\n",
       "      <th>9999</th>\n",
       "      <td>1.0</td>\n",
       "      <td>0.0</td>\n",
       "      <td>0.0</td>\n",
       "    </tr>\n",
       "  </tbody>\n",
       "</table>\n",
       "<p>10000 rows × 3 columns</p>\n",
       "</div>"
      ],
      "text/plain": [
       "      france  germany  spain\n",
       "0        1.0      0.0    0.0\n",
       "1        0.0      0.0    1.0\n",
       "2        1.0      0.0    0.0\n",
       "3        1.0      0.0    0.0\n",
       "4        0.0      0.0    1.0\n",
       "...      ...      ...    ...\n",
       "9995     1.0      0.0    0.0\n",
       "9996     1.0      0.0    0.0\n",
       "9997     1.0      0.0    0.0\n",
       "9998     0.0      1.0    0.0\n",
       "9999     1.0      0.0    0.0\n",
       "\n",
       "[10000 rows x 3 columns]"
      ]
     },
     "execution_count": 29,
     "metadata": {},
     "output_type": "execute_result"
    }
   ],
   "source": [
    "pd.DataFrame(geography, columns=['france', 'germany', 'spain'])"
   ]
  },
  {
   "cell_type": "code",
   "execution_count": 23,
   "id": "1d6150a3",
   "metadata": {},
   "outputs": [
    {
     "data": {
      "text/plain": [
       "10000"
      ]
     },
     "execution_count": 23,
     "metadata": {},
     "output_type": "execute_result"
    }
   ],
   "source": [
    "len(df)"
   ]
  },
  {
   "cell_type": "code",
   "execution_count": 3,
   "id": "eaa72848",
   "metadata": {},
   "outputs": [
    {
     "data": {
      "text/html": [
       "<div>\n",
       "<style scoped>\n",
       "    .dataframe tbody tr th:only-of-type {\n",
       "        vertical-align: middle;\n",
       "    }\n",
       "\n",
       "    .dataframe tbody tr th {\n",
       "        vertical-align: top;\n",
       "    }\n",
       "\n",
       "    .dataframe thead th {\n",
       "        text-align: right;\n",
       "    }\n",
       "</style>\n",
       "<table border=\"1\" class=\"dataframe\">\n",
       "  <thead>\n",
       "    <tr style=\"text-align: right;\">\n",
       "      <th></th>\n",
       "      <th>CreditScore</th>\n",
       "      <th>Age</th>\n",
       "      <th>Balance</th>\n",
       "      <th>EstimatedSalary</th>\n",
       "    </tr>\n",
       "  </thead>\n",
       "  <tbody>\n",
       "    <tr>\n",
       "      <th>0</th>\n",
       "      <td>619</td>\n",
       "      <td>42</td>\n",
       "      <td>0.00</td>\n",
       "      <td>101348.88</td>\n",
       "    </tr>\n",
       "    <tr>\n",
       "      <th>1</th>\n",
       "      <td>608</td>\n",
       "      <td>41</td>\n",
       "      <td>83807.86</td>\n",
       "      <td>112542.58</td>\n",
       "    </tr>\n",
       "    <tr>\n",
       "      <th>2</th>\n",
       "      <td>502</td>\n",
       "      <td>42</td>\n",
       "      <td>159660.80</td>\n",
       "      <td>113931.57</td>\n",
       "    </tr>\n",
       "    <tr>\n",
       "      <th>3</th>\n",
       "      <td>699</td>\n",
       "      <td>39</td>\n",
       "      <td>0.00</td>\n",
       "      <td>93826.63</td>\n",
       "    </tr>\n",
       "    <tr>\n",
       "      <th>4</th>\n",
       "      <td>850</td>\n",
       "      <td>43</td>\n",
       "      <td>125510.82</td>\n",
       "      <td>79084.10</td>\n",
       "    </tr>\n",
       "    <tr>\n",
       "      <th>...</th>\n",
       "      <td>...</td>\n",
       "      <td>...</td>\n",
       "      <td>...</td>\n",
       "      <td>...</td>\n",
       "    </tr>\n",
       "    <tr>\n",
       "      <th>9995</th>\n",
       "      <td>771</td>\n",
       "      <td>39</td>\n",
       "      <td>0.00</td>\n",
       "      <td>96270.64</td>\n",
       "    </tr>\n",
       "    <tr>\n",
       "      <th>9996</th>\n",
       "      <td>516</td>\n",
       "      <td>35</td>\n",
       "      <td>57369.61</td>\n",
       "      <td>101699.77</td>\n",
       "    </tr>\n",
       "    <tr>\n",
       "      <th>9997</th>\n",
       "      <td>709</td>\n",
       "      <td>36</td>\n",
       "      <td>0.00</td>\n",
       "      <td>42085.58</td>\n",
       "    </tr>\n",
       "    <tr>\n",
       "      <th>9998</th>\n",
       "      <td>772</td>\n",
       "      <td>42</td>\n",
       "      <td>75075.31</td>\n",
       "      <td>92888.52</td>\n",
       "    </tr>\n",
       "    <tr>\n",
       "      <th>9999</th>\n",
       "      <td>792</td>\n",
       "      <td>28</td>\n",
       "      <td>130142.79</td>\n",
       "      <td>38190.78</td>\n",
       "    </tr>\n",
       "  </tbody>\n",
       "</table>\n",
       "<p>10000 rows × 4 columns</p>\n",
       "</div>"
      ],
      "text/plain": [
       "      CreditScore  Age    Balance  EstimatedSalary\n",
       "0             619   42       0.00        101348.88\n",
       "1             608   41   83807.86        112542.58\n",
       "2             502   42  159660.80        113931.57\n",
       "3             699   39       0.00         93826.63\n",
       "4             850   43  125510.82         79084.10\n",
       "...           ...  ...        ...              ...\n",
       "9995          771   39       0.00         96270.64\n",
       "9996          516   35   57369.61        101699.77\n",
       "9997          709   36       0.00         42085.58\n",
       "9998          772   42   75075.31         92888.52\n",
       "9999          792   28  130142.79         38190.78\n",
       "\n",
       "[10000 rows x 4 columns]"
      ]
     },
     "execution_count": 3,
     "metadata": {},
     "output_type": "execute_result"
    }
   ],
   "source": [
    "df[['CreditScore', 'Age', 'Balance', 'EstimatedSalary']] # ini yang akan disimpan ke X"
   ]
  },
  {
   "cell_type": "code",
   "execution_count": 6,
   "id": "77db1925",
   "metadata": {},
   "outputs": [
    {
     "data": {
      "text/plain": [
       "0       1\n",
       "1       0\n",
       "2       1\n",
       "3       0\n",
       "4       0\n",
       "       ..\n",
       "9995    0\n",
       "9996    0\n",
       "9997    1\n",
       "9998    1\n",
       "9999    0\n",
       "Name: Exited, Length: 10000, dtype: int64"
      ]
     },
     "execution_count": 6,
     "metadata": {},
     "output_type": "execute_result"
    }
   ],
   "source": [
    "df['Exited']"
   ]
  },
  {
   "cell_type": "code",
   "execution_count": 7,
   "id": "81fd0fb0",
   "metadata": {},
   "outputs": [],
   "source": [
    "X = df[['CreditScore', 'Age', 'Balance', 'EstimatedSalary']]\n",
    "y = df.Exited"
   ]
  },
  {
   "cell_type": "markdown",
   "id": "0471c5bf",
   "metadata": {},
   "source": [
    "## Scaling"
   ]
  },
  {
   "cell_type": "code",
   "execution_count": 10,
   "id": "2395d1f7",
   "metadata": {},
   "outputs": [
    {
     "data": {
      "text/plain": [
       "array([[-0.32622142,  0.29351742, -1.22584767,  0.02188649],\n",
       "       [-0.44003595,  0.19816383,  0.11735002,  0.21653375],\n",
       "       [-1.53679418,  0.29351742,  1.33305335,  0.2406869 ],\n",
       "       ...,\n",
       "       [ 0.60498839, -0.27860412, -1.22584767, -1.00864308],\n",
       "       [ 1.25683526,  0.29351742, -0.02260751, -0.12523071],\n",
       "       [ 1.46377078, -1.04143285,  0.85996499, -1.07636976]])"
      ]
     },
     "execution_count": 10,
     "metadata": {},
     "output_type": "execute_result"
    }
   ],
   "source": [
    "ss = StandardScaler()\n",
    "ss.fit_transform(X)"
   ]
  },
  {
   "cell_type": "code",
   "execution_count": 11,
   "id": "a272d359",
   "metadata": {},
   "outputs": [],
   "source": [
    "X = ss.fit_transform(X)"
   ]
  },
  {
   "cell_type": "code",
   "execution_count": 12,
   "id": "1da9b644",
   "metadata": {},
   "outputs": [
    {
     "data": {
      "text/plain": [
       "array([[-0.32622142,  0.29351742, -1.22584767,  0.02188649],\n",
       "       [-0.44003595,  0.19816383,  0.11735002,  0.21653375],\n",
       "       [-1.53679418,  0.29351742,  1.33305335,  0.2406869 ],\n",
       "       ...,\n",
       "       [ 0.60498839, -0.27860412, -1.22584767, -1.00864308],\n",
       "       [ 1.25683526,  0.29351742, -0.02260751, -0.12523071],\n",
       "       [ 1.46377078, -1.04143285,  0.85996499, -1.07636976]])"
      ]
     },
     "execution_count": 12,
     "metadata": {},
     "output_type": "execute_result"
    }
   ],
   "source": [
    "X"
   ]
  },
  {
   "cell_type": "markdown",
   "id": "56f8262d",
   "metadata": {},
   "source": [
    "## Cross Validation"
   ]
  },
  {
   "cell_type": "code",
   "execution_count": 30,
   "id": "22dab75a",
   "metadata": {},
   "outputs": [],
   "source": [
    "X_train, X_test, y_train, y_test = train_test_split(X, y, test_size=0.2)"
   ]
  },
  {
   "cell_type": "markdown",
   "id": "79acdf80",
   "metadata": {},
   "source": [
    "## Train"
   ]
  },
  {
   "cell_type": "code",
   "execution_count": 31,
   "id": "c29dbb53",
   "metadata": {},
   "outputs": [],
   "source": [
    "knn = KNeighborsClassifier(n_neighbors=3)"
   ]
  },
  {
   "cell_type": "code",
   "execution_count": 32,
   "id": "4563b3e9",
   "metadata": {},
   "outputs": [
    {
     "data": {
      "text/plain": [
       "KNeighborsClassifier(n_neighbors=3)"
      ]
     },
     "execution_count": 32,
     "metadata": {},
     "output_type": "execute_result"
    }
   ],
   "source": [
    "knn.fit(X_train, y_train)"
   ]
  },
  {
   "cell_type": "code",
   "execution_count": 33,
   "id": "205cbb8c",
   "metadata": {},
   "outputs": [],
   "source": [
    "y_pred = knn.predict(X_test)"
   ]
  },
  {
   "cell_type": "code",
   "execution_count": 34,
   "id": "a9b1c81f",
   "metadata": {},
   "outputs": [
    {
     "data": {
      "text/plain": [
       "0.759"
      ]
     },
     "execution_count": 34,
     "metadata": {},
     "output_type": "execute_result"
    }
   ],
   "source": [
    "accuracy_score(y_test, y_pred)"
   ]
  },
  {
   "cell_type": "code",
   "execution_count": 36,
   "id": "3298401a",
   "metadata": {},
   "outputs": [
    {
     "name": "stdout",
     "output_type": "stream",
     "text": [
      "              precision    recall  f1-score   support\n",
      "\n",
      "           0       0.82      0.89      0.85      1567\n",
      "           1       0.42      0.28      0.34       433\n",
      "\n",
      "    accuracy                           0.76      2000\n",
      "   macro avg       0.62      0.59      0.60      2000\n",
      "weighted avg       0.73      0.76      0.74      2000\n",
      "\n"
     ]
    }
   ],
   "source": [
    "print(classification_report(y_test, y_pred))"
   ]
  },
  {
   "cell_type": "code",
   "execution_count": 45,
   "id": "09f7b32b",
   "metadata": {},
   "outputs": [
    {
     "data": {
      "text/plain": [
       "70"
      ]
     },
     "execution_count": 45,
     "metadata": {},
     "output_type": "execute_result"
    }
   ],
   "source": [
    "k_max = int(np.floor(np.sqrt((len(df)/2))))\n",
    "k_max"
   ]
  },
  {
   "cell_type": "code",
   "execution_count": 46,
   "id": "31f230ff",
   "metadata": {},
   "outputs": [],
   "source": [
    "semua_k = range(1,k_max, 2)"
   ]
  },
  {
   "cell_type": "code",
   "execution_count": 49,
   "id": "9744355b",
   "metadata": {},
   "outputs": [
    {
     "name": "stdout",
     "output_type": "stream",
     "text": [
      "Accuracy dengan k=1: 72.75%\n",
      "Accuracy dengan k=3: 75.9%\n",
      "Accuracy dengan k=5: 76.75%\n",
      "Accuracy dengan k=7: 77.8%\n",
      "Accuracy dengan k=9: 78.8%\n",
      "Accuracy dengan k=11: 79.14999999999999%\n",
      "Accuracy dengan k=13: 80.05%\n",
      "Accuracy dengan k=15: 79.65%\n",
      "Accuracy dengan k=17: 79.95%\n",
      "Accuracy dengan k=19: 80.2%\n",
      "Accuracy dengan k=21: 80.05%\n",
      "Accuracy dengan k=23: 80.15%\n",
      "Accuracy dengan k=25: 79.85%\n",
      "Accuracy dengan k=27: 79.60000000000001%\n",
      "Accuracy dengan k=29: 79.65%\n",
      "Accuracy dengan k=31: 79.80000000000001%\n",
      "Accuracy dengan k=33: 79.85%\n",
      "Accuracy dengan k=35: 79.75%\n",
      "Accuracy dengan k=37: 79.75%\n",
      "Accuracy dengan k=39: 79.65%\n",
      "Accuracy dengan k=41: 79.60000000000001%\n",
      "Accuracy dengan k=43: 79.80000000000001%\n",
      "Accuracy dengan k=45: 79.95%\n",
      "Accuracy dengan k=47: 79.85%\n",
      "Accuracy dengan k=49: 79.60000000000001%\n",
      "Accuracy dengan k=51: 79.9%\n",
      "Accuracy dengan k=53: 80.05%\n",
      "Accuracy dengan k=55: 80.0%\n",
      "Accuracy dengan k=57: 80.05%\n",
      "Accuracy dengan k=59: 79.95%\n",
      "Accuracy dengan k=61: 80.2%\n",
      "Accuracy dengan k=63: 80.15%\n",
      "Accuracy dengan k=65: 80.05%\n",
      "Accuracy dengan k=67: 80.05%\n",
      "Accuracy dengan k=69: 80.4%\n"
     ]
    }
   ],
   "source": [
    "for k in semua_k:\n",
    "    knn = KNeighborsClassifier(n_neighbors=k)\n",
    "    # Training dengan k tertentu sesuai iterasi\n",
    "    knn.fit(X_train, y_train)\n",
    "    y_pred = knn.predict(X_test)\n",
    "    print(f\"Accuracy dengan k={k}: {accuracy_score(y_test, y_pred) * 100}%\")"
   ]
  },
  {
   "cell_type": "markdown",
   "id": "a98cd46b",
   "metadata": {},
   "source": [
    "**K dengan nilai accuracy terbaik adalah K=69**"
   ]
  },
  {
   "cell_type": "code",
   "execution_count": 52,
   "id": "542de39e",
   "metadata": {},
   "outputs": [],
   "source": [
    "knn_fix = KNeighborsClassifier(n_neighbors=69)"
   ]
  },
  {
   "cell_type": "code",
   "execution_count": 53,
   "id": "db21627b",
   "metadata": {},
   "outputs": [
    {
     "data": {
      "text/plain": [
       "KNeighborsClassifier(n_neighbors=69)"
      ]
     },
     "execution_count": 53,
     "metadata": {},
     "output_type": "execute_result"
    }
   ],
   "source": [
    "knn_fix.fit(X_train, y_train)"
   ]
  },
  {
   "cell_type": "code",
   "execution_count": 62,
   "id": "479e931d",
   "metadata": {},
   "outputs": [
    {
     "name": "stdout",
     "output_type": "stream",
     "text": [
      "Kamu nasabah setia\n"
     ]
    }
   ],
   "source": [
    "# 'CreditScore', 'Age', 'Balance', 'EstimatedSalary'\n",
    "\n",
    "exited = knn_fix.predict(np.array([[399, 22, 83024432343, 83420439284932]]))\n",
    "if exited[0] == 0:\n",
    "    print(\"Kamu nasabah setia\")\n",
    "else:\n",
    "    print(\"Yah kayaknya kamu bakal berhenti jadi nasabah\")"
   ]
  },
  {
   "cell_type": "markdown",
   "id": "ec6528de",
   "metadata": {},
   "source": [
    "## KNN Regressor"
   ]
  },
  {
   "cell_type": "code",
   "execution_count": 64,
   "id": "8bfe52a8",
   "metadata": {},
   "outputs": [],
   "source": [
    "regressor = KNeighborsRegressor()"
   ]
  },
  {
   "cell_type": "code",
   "execution_count": null,
   "id": "e84da665",
   "metadata": {},
   "outputs": [],
   "source": []
  },
  {
   "cell_type": "code",
   "execution_count": 70,
   "id": "ce0d4569",
   "metadata": {},
   "outputs": [
    {
     "name": "stdout",
     "output_type": "stream",
     "text": [
      "r_square k=1: -0.6064588488616987\n",
      "r_square k=2: -0.2652705704107967\n",
      "r_square k=3: -0.1155145441840868\n",
      "r_square k=4: -0.03222350116652506\n",
      "r_square k=5: 0.006176760583100238\n",
      "r_square k=6: 0.0340777247695484\n",
      "r_square k=7: 0.05784091028376981\n",
      "r_square k=8: 0.07554925417568759\n",
      "r_square k=9: 0.0987163595026006\n",
      "r_square k=10: 0.10515820672030352\n",
      "r_square k=11: 0.11176431045272184\n",
      "r_square k=12: 0.12105330643128842\n",
      "r_square k=13: 0.1272221834098105\n",
      "r_square k=14: 0.12876451945089007\n",
      "r_square k=15: 0.1336716231080507\n",
      "r_square k=16: 0.13709256371672673\n",
      "r_square k=17: 0.14123986097197905\n",
      "r_square k=18: 0.14027431635841803\n",
      "r_square k=19: 0.14570960623647833\n",
      "r_square k=20: 0.14565865549711043\n",
      "r_square k=21: 0.1473726928484268\n",
      "r_square k=22: 0.1491699903742798\n",
      "r_square k=23: 0.15062538572905715\n",
      "r_square k=24: 0.153948048660146\n",
      "r_square k=25: 0.15646349138039028\n",
      "r_square k=26: 0.15642814771597113\n",
      "r_square k=27: 0.15747085172597897\n",
      "r_square k=28: 0.15998158512702432\n",
      "r_square k=29: 0.16135869809808823\n",
      "r_square k=30: 0.16182804864049516\n",
      "r_square k=31: 0.1624157992244114\n",
      "r_square k=32: 0.16462873299032732\n",
      "r_square k=33: 0.16383100309508147\n",
      "r_square k=34: 0.16457867219008515\n",
      "r_square k=35: 0.16463417990396056\n",
      "r_square k=36: 0.16544744828049485\n",
      "r_square k=37: 0.16493336261830116\n",
      "r_square k=38: 0.1641506711181988\n",
      "r_square k=39: 0.1645452759795556\n",
      "r_square k=40: 0.1649472152993835\n",
      "r_square k=41: 0.16711803982025075\n",
      "r_square k=42: 0.16688320224045616\n",
      "r_square k=43: 0.16662232134767896\n",
      "r_square k=44: 0.16637465429131026\n",
      "r_square k=45: 0.16553514939785263\n",
      "r_square k=46: 0.16462802559721568\n",
      "r_square k=47: 0.16431527772468735\n",
      "r_square k=48: 0.16375813280027063\n",
      "r_square k=49: 0.16320183507199548\n",
      "r_square k=50: 0.163491822534933\n",
      "r_square k=51: 0.1643710007693866\n",
      "r_square k=52: 0.16423871558151448\n",
      "r_square k=53: 0.16509849650103847\n",
      "r_square k=54: 0.1636046735347234\n",
      "r_square k=55: 0.16346916718988125\n",
      "r_square k=56: 0.16321401584062867\n",
      "r_square k=57: 0.16350970428480727\n",
      "r_square k=58: 0.1639663525582722\n",
      "r_square k=59: 0.16331483766345478\n",
      "r_square k=60: 0.16319624065703342\n",
      "r_square k=61: 0.16418622290689766\n",
      "r_square k=62: 0.16422547897472572\n",
      "r_square k=63: 0.16402691891961774\n",
      "r_square k=64: 0.16430057876733017\n",
      "r_square k=65: 0.16408745327906882\n",
      "r_square k=66: 0.16430129774296098\n",
      "r_square k=67: 0.1647823122908323\n",
      "r_square k=68: 0.1661022097955498\n",
      "r_square k=69: 0.166611067357737\n",
      "r_square k=70: 0.1662788376432559\n",
      "r_square k=71: 0.1659204400250095\n",
      "r_square k=72: 0.16585854726810922\n",
      "r_square k=73: 0.1657640316761313\n",
      "r_square k=74: 0.16567080862889638\n",
      "r_square k=75: 0.1652712745670708\n",
      "r_square k=76: 0.16526572886577928\n",
      "r_square k=77: 0.16571356267220483\n",
      "r_square k=78: 0.16613779123575734\n",
      "r_square k=79: 0.1663947690469909\n",
      "r_square k=80: 0.16623910666149844\n",
      "r_square k=81: 0.16739063386448905\n",
      "r_square k=82: 0.16669851531311475\n",
      "r_square k=83: 0.16738561772947524\n",
      "r_square k=84: 0.16749770976263134\n",
      "r_square k=85: 0.16774773240360086\n",
      "r_square k=86: 0.16765415158562158\n",
      "r_square k=87: 0.16826960551302672\n",
      "r_square k=88: 0.16889711685277398\n",
      "r_square k=89: 0.168582761813323\n",
      "r_square k=90: 0.16942711392125864\n",
      "r_square k=91: 0.16830214190622017\n",
      "r_square k=92: 0.16835539961504542\n",
      "r_square k=93: 0.1688747541449308\n",
      "r_square k=94: 0.16853623448926747\n",
      "r_square k=95: 0.16883503637064223\n",
      "r_square k=96: 0.16900860036822463\n",
      "r_square k=97: 0.16929940103934593\n",
      "r_square k=98: 0.16871068839347447\n",
      "r_square k=99: 0.16842402618855257\n"
     ]
    }
   ],
   "source": [
    "for k in range(1,100):\n",
    "    regressor = KNeighborsRegressor(n_neighbors=k)\n",
    "    regressor.fit(X_train, y_train)\n",
    "    y_pred = regressor.predict(X_test)\n",
    "    r_square = r2_score(y_test, y_pred)\n",
    "    print(f\"r_square k={k}: {r_square}\")"
   ]
  },
  {
   "cell_type": "code",
   "execution_count": null,
   "id": "902e648c",
   "metadata": {},
   "outputs": [],
   "source": []
  }
 ],
 "metadata": {
  "kernelspec": {
   "display_name": "Python [conda env:.conda-py38] *",
   "language": "python",
   "name": "conda-env-.conda-py38-py"
  },
  "language_info": {
   "codemirror_mode": {
    "name": "ipython",
    "version": 3
   },
   "file_extension": ".py",
   "mimetype": "text/x-python",
   "name": "python",
   "nbconvert_exporter": "python",
   "pygments_lexer": "ipython3",
   "version": "3.8.12"
  }
 },
 "nbformat": 4,
 "nbformat_minor": 5
}
